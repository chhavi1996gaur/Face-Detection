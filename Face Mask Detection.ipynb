{
 "cells": [
  {
   "cell_type": "markdown",
   "metadata": {},
   "source": [
    "### Data Pre-Processing"
   ]
  },
  {
   "cell_type": "code",
   "execution_count": 1,
   "metadata": {},
   "outputs": [
    {
     "name": "stdout",
     "output_type": "stream",
     "text": [
      "Collecting tensorflow.gpu\n",
      "  Using cached tensorflow_gpu-2.3.1-cp38-cp38-win_amd64.whl (344.2 MB)\n",
      "Requirement already satisfied: wrapt>=1.11.1 in c:\\users\\chhav\\anaconda3\\lib\\site-packages (from tensorflow.gpu) (1.12.1)\n",
      "Requirement already satisfied: grpcio>=1.8.6 in c:\\users\\chhav\\anaconda3\\lib\\site-packages (from tensorflow.gpu) (1.29.0)\n",
      "Requirement already satisfied: six>=1.12.0 in c:\\users\\chhav\\anaconda3\\lib\\site-packages (from tensorflow.gpu) (1.15.0)\n",
      "Requirement already satisfied: tensorflow-gpu-estimator<2.4.0,>=2.3.0 in c:\\users\\chhav\\anaconda3\\lib\\site-packages (from tensorflow.gpu) (2.3.0)\n",
      "Requirement already satisfied: gast==0.3.3 in c:\\users\\chhav\\anaconda3\\lib\\site-packages (from tensorflow.gpu) (0.3.3)\n",
      "Requirement already satisfied: keras-preprocessing<1.2,>=1.1.1 in c:\\users\\chhav\\anaconda3\\lib\\site-packages (from tensorflow.gpu) (1.1.2)\n",
      "Requirement already satisfied: protobuf>=3.9.2 in c:\\users\\chhav\\anaconda3\\lib\\site-packages (from tensorflow.gpu) (3.13.0)\n",
      "Requirement already satisfied: numpy<1.19.0,>=1.16.0 in c:\\users\\chhav\\anaconda3\\lib\\site-packages (from tensorflow.gpu) (1.18.5)\n",
      "Requirement already satisfied: tensorboard<3,>=2.3.0 in c:\\users\\chhav\\anaconda3\\lib\\site-packages (from tensorflow.gpu) (2.4.0)\n",
      "Requirement already satisfied: wheel>=0.26 in c:\\users\\chhav\\anaconda3\\lib\\site-packages (from tensorflow.gpu) (0.35.1)\n",
      "Requirement already satisfied: google-pasta>=0.1.8 in c:\\users\\chhav\\anaconda3\\lib\\site-packages (from tensorflow.gpu) (0.2.0)\n",
      "Requirement already satisfied: h5py<2.11.0,>=2.10.0 in c:\\users\\chhav\\anaconda3\\lib\\site-packages (from tensorflow.gpu) (2.10.0)\n",
      "Requirement already satisfied: astunparse==1.6.3 in c:\\users\\chhav\\anaconda3\\lib\\site-packages (from tensorflow.gpu) (1.6.3)\n",
      "Requirement already satisfied: absl-py>=0.7.0 in c:\\users\\chhav\\anaconda3\\lib\\site-packages (from tensorflow.gpu) (0.9.0)\n",
      "Requirement already satisfied: termcolor>=1.1.0 in c:\\users\\chhav\\anaconda3\\lib\\site-packages (from tensorflow.gpu) (1.1.0)\n",
      "Requirement already satisfied: opt-einsum>=2.3.2 in c:\\users\\chhav\\anaconda3\\lib\\site-packages (from tensorflow.gpu) (3.3.0)\n",
      "Requirement already satisfied: setuptools in c:\\users\\chhav\\anaconda3\\lib\\site-packages (from protobuf>=3.9.2->tensorflow.gpu) (49.2.0.post20200714)\n",
      "Requirement already satisfied: werkzeug>=0.11.15 in c:\\users\\chhav\\anaconda3\\lib\\site-packages (from tensorboard<3,>=2.3.0->tensorflow.gpu) (1.0.1)\n",
      "Requirement already satisfied: tensorboard-plugin-wit>=1.6.0 in c:\\users\\chhav\\anaconda3\\lib\\site-packages (from tensorboard<3,>=2.3.0->tensorflow.gpu) (1.7.0)\n",
      "Requirement already satisfied: google-auth<2,>=1.6.3 in c:\\users\\chhav\\anaconda3\\lib\\site-packages (from tensorboard<3,>=2.3.0->tensorflow.gpu) (1.22.1)\n",
      "Requirement already satisfied: google-auth-oauthlib<0.5,>=0.4.1 in c:\\users\\chhav\\anaconda3\\lib\\site-packages (from tensorboard<3,>=2.3.0->tensorflow.gpu) (0.4.1)\n",
      "Requirement already satisfied: requests<3,>=2.21.0 in c:\\users\\chhav\\anaconda3\\lib\\site-packages (from tensorboard<3,>=2.3.0->tensorflow.gpu) (2.24.0)\n",
      "Requirement already satisfied: markdown>=2.6.8 in c:\\users\\chhav\\anaconda3\\lib\\site-packages (from tensorboard<3,>=2.3.0->tensorflow.gpu) (3.3.1)\n",
      "Requirement already satisfied: cachetools<5.0,>=2.0.0 in c:\\users\\chhav\\anaconda3\\lib\\site-packages (from google-auth<2,>=1.6.3->tensorboard<3,>=2.3.0->tensorflow.gpu) (3.1.1)\n",
      "Requirement already satisfied: rsa<5,>=3.1.4; python_version >= \"3.5\" in c:\\users\\chhav\\anaconda3\\lib\\site-packages (from google-auth<2,>=1.6.3->tensorboard<3,>=2.3.0->tensorflow.gpu) (4.6)\n",
      "Requirement already satisfied: pyasn1-modules>=0.2.1 in c:\\users\\chhav\\anaconda3\\lib\\site-packages (from google-auth<2,>=1.6.3->tensorboard<3,>=2.3.0->tensorflow.gpu) (0.2.8)\n",
      "Requirement already satisfied: requests-oauthlib>=0.7.0 in c:\\users\\chhav\\anaconda3\\lib\\site-packages (from google-auth-oauthlib<0.5,>=0.4.1->tensorboard<3,>=2.3.0->tensorflow.gpu) (1.3.0)\n",
      "Requirement already satisfied: idna<3,>=2.5 in c:\\users\\chhav\\anaconda3\\lib\\site-packages (from requests<3,>=2.21.0->tensorboard<3,>=2.3.0->tensorflow.gpu) (2.10)\n",
      "Requirement already satisfied: urllib3!=1.25.0,!=1.25.1,<1.26,>=1.21.1 in c:\\users\\chhav\\anaconda3\\lib\\site-packages (from requests<3,>=2.21.0->tensorboard<3,>=2.3.0->tensorflow.gpu) (1.25.9)\n",
      "Requirement already satisfied: chardet<4,>=3.0.2 in c:\\users\\chhav\\anaconda3\\lib\\site-packages (from requests<3,>=2.21.0->tensorboard<3,>=2.3.0->tensorflow.gpu) (3.0.4)\n",
      "Requirement already satisfied: certifi>=2017.4.17 in c:\\users\\chhav\\anaconda3\\lib\\site-packages (from requests<3,>=2.21.0->tensorboard<3,>=2.3.0->tensorflow.gpu) (2020.6.20)\n",
      "Requirement already satisfied: pyasn1>=0.1.3 in c:\\users\\chhav\\anaconda3\\lib\\site-packages (from rsa<5,>=3.1.4; python_version >= \"3.5\"->google-auth<2,>=1.6.3->tensorboard<3,>=2.3.0->tensorflow.gpu) (0.4.8)\n",
      "Requirement already satisfied: oauthlib>=3.0.0 in c:\\users\\chhav\\anaconda3\\lib\\site-packages (from requests-oauthlib>=0.7.0->google-auth-oauthlib<0.5,>=0.4.1->tensorboard<3,>=2.3.0->tensorflow.gpu) (3.1.0)\n",
      "Installing collected packages: tensorflow.gpu\n",
      "Successfully installed tensorflow.gpu\n"
     ]
    }
   ],
   "source": [
    "! pip install tensorflow.gpu"
   ]
  },
  {
   "cell_type": "code",
   "execution_count": 13,
   "metadata": {},
   "outputs": [
    {
     "name": "stdout",
     "output_type": "stream",
     "text": [
      "Collecting opencv-python\n",
      "  Using cached opencv_python-4.4.0.46-cp38-cp38-win_amd64.whl (33.5 MB)\n",
      "Requirement already satisfied: numpy>=1.17.3 in c:\\users\\chhav\\anaconda3\\lib\\site-packages (from opencv-python) (1.18.5)\n",
      "Installing collected packages: opencv-python\n",
      "Successfully installed opencv-python-4.4.0.46\n"
     ]
    }
   ],
   "source": [
    "! pip install opencv-python"
   ]
  },
  {
   "cell_type": "code",
   "execution_count": 49,
   "metadata": {},
   "outputs": [
    {
     "name": "stdout",
     "output_type": "stream",
     "text": [
      "Collecting np_utils\n",
      "  Downloading np_utils-0.5.12.1.tar.gz (61 kB)\n",
      "Requirement already satisfied: numpy>=1.0 in c:\\users\\chhav\\anaconda3\\lib\\site-packages (from np_utils) (1.18.5)\n",
      "Requirement already satisfied: future>=0.16 in c:\\users\\chhav\\anaconda3\\lib\\site-packages (from np_utils) (0.18.2)\n",
      "Building wheels for collected packages: np-utils\n",
      "  Building wheel for np-utils (setup.py): started\n",
      "  Building wheel for np-utils (setup.py): finished with status 'done'\n",
      "  Created wheel for np-utils: filename=np_utils-0.5.12.1-py3-none-any.whl size=57132 sha256=857e72d9abf0579a5fed69c034943a5f1f7c8eed9813b9766c3f835471ce6085\n",
      "  Stored in directory: c:\\users\\chhav\\appdata\\local\\pip\\cache\\wheels\\57\\18\\82\\402fcaf521e84dfa67b077aea34d225fc32ce6085e2cb8dda6\n",
      "Successfully built np-utils\n",
      "Installing collected packages: np-utils\n",
      "Successfully installed np-utils-0.5.12.1\n"
     ]
    }
   ],
   "source": [
    "! pip install np_utils"
   ]
  },
  {
   "cell_type": "markdown",
   "metadata": {},
   "source": [
    "### Training Model"
   ]
  },
  {
   "cell_type": "code",
   "execution_count": 1,
   "metadata": {},
   "outputs": [],
   "source": [
    "import pandas as pd\n",
    "import numpy as np\n",
    "import matplotlib.pyplot as plt\n",
    "import tensorflow as tf\n",
    "from tensorflow import keras\n",
    "from tensorflow.keras.preprocessing.image import ImageDataGenerator, load_img, img_to_array\n",
    "from tensorflow.keras.layers import Conv2D, Flatten, Dense, MaxPool2D, Dropout\n",
    "from tensorflow.keras.models import Sequential\n",
    "from tensorflow.keras.utils import to_categorical\n",
    "from sklearn.model_selection import train_test_split\n",
    "import os\n",
    "from sklearn.metrics import classification_report\n",
    "import cv2"
   ]
  },
  {
   "cell_type": "code",
   "execution_count": 9,
   "metadata": {},
   "outputs": [],
   "source": [
    "Directory = 'E:\\Data\\Face Mask Detection\\Face-Mask-Detection-master\\dataset'\n",
    "Categories = ['with_mask', 'without_mask']\n",
    "label=[i for i in range(len(Categories))]\n",
    "label_dict=dict(zip(Categories,label))"
   ]
  },
  {
   "cell_type": "code",
   "execution_count": 10,
   "metadata": {},
   "outputs": [
    {
     "data": {
      "text/plain": [
       "{'with_mask': 0, 'without_mask': 1}"
      ]
     },
     "execution_count": 10,
     "metadata": {},
     "output_type": "execute_result"
    }
   ],
   "source": [
    "label_dict"
   ]
  },
  {
   "cell_type": "code",
   "execution_count": 57,
   "metadata": {},
   "outputs": [
    {
     "name": "stdout",
     "output_type": "stream",
     "text": [
      "Exception OpenCV(4.4.0) C:\\Users\\appveyor\\AppData\\Local\\Temp\\1\\pip-req-build-h4wtvo23\\opencv\\modules\\imgproc\\src\\color.cpp:182: error: (-215:Assertion failed) !_src.empty() in function 'cv::cvtColor'\n",
      "\n",
      "Exception OpenCV(4.4.0) C:\\Users\\appveyor\\AppData\\Local\\Temp\\1\\pip-req-build-h4wtvo23\\opencv\\modules\\imgproc\\src\\color.cpp:182: error: (-215:Assertion failed) !_src.empty() in function 'cv::cvtColor'\n",
      "\n",
      "Exception OpenCV(4.4.0) C:\\Users\\appveyor\\AppData\\Local\\Temp\\1\\pip-req-build-h4wtvo23\\opencv\\modules\\imgproc\\src\\color.cpp:182: error: (-215:Assertion failed) !_src.empty() in function 'cv::cvtColor'\n",
      "\n",
      "Exception OpenCV(4.4.0) C:\\Users\\appveyor\\AppData\\Local\\Temp\\1\\pip-req-build-h4wtvo23\\opencv\\modules\\imgproc\\src\\color.cpp:182: error: (-215:Assertion failed) !_src.empty() in function 'cv::cvtColor'\n",
      "\n",
      "Exception OpenCV(4.4.0) C:\\Users\\appveyor\\AppData\\Local\\Temp\\1\\pip-req-build-h4wtvo23\\opencv\\modules\\imgproc\\src\\color.cpp:182: error: (-215:Assertion failed) !_src.empty() in function 'cv::cvtColor'\n",
      "\n",
      "Exception OpenCV(4.4.0) C:\\Users\\appveyor\\AppData\\Local\\Temp\\1\\pip-req-build-h4wtvo23\\opencv\\modules\\imgproc\\src\\color.cpp:182: error: (-215:Assertion failed) !_src.empty() in function 'cv::cvtColor'\n",
      "\n",
      "Exception OpenCV(4.4.0) C:\\Users\\appveyor\\AppData\\Local\\Temp\\1\\pip-req-build-h4wtvo23\\opencv\\modules\\imgproc\\src\\color.cpp:182: error: (-215:Assertion failed) !_src.empty() in function 'cv::cvtColor'\n",
      "\n",
      "Exception OpenCV(4.4.0) C:\\Users\\appveyor\\AppData\\Local\\Temp\\1\\pip-req-build-h4wtvo23\\opencv\\modules\\imgproc\\src\\color.cpp:182: error: (-215:Assertion failed) !_src.empty() in function 'cv::cvtColor'\n",
      "\n",
      "Exception OpenCV(4.4.0) C:\\Users\\appveyor\\AppData\\Local\\Temp\\1\\pip-req-build-h4wtvo23\\opencv\\modules\\imgproc\\src\\color.cpp:182: error: (-215:Assertion failed) !_src.empty() in function 'cv::cvtColor'\n",
      "\n",
      "Exception OpenCV(4.4.0) C:\\Users\\appveyor\\AppData\\Local\\Temp\\1\\pip-req-build-h4wtvo23\\opencv\\modules\\imgproc\\src\\color.cpp:182: error: (-215:Assertion failed) !_src.empty() in function 'cv::cvtColor'\n",
      "\n",
      "Exception OpenCV(4.4.0) C:\\Users\\appveyor\\AppData\\Local\\Temp\\1\\pip-req-build-h4wtvo23\\opencv\\modules\\imgproc\\src\\color.cpp:182: error: (-215:Assertion failed) !_src.empty() in function 'cv::cvtColor'\n",
      "\n",
      "Exception OpenCV(4.4.0) C:\\Users\\appveyor\\AppData\\Local\\Temp\\1\\pip-req-build-h4wtvo23\\opencv\\modules\\imgproc\\src\\color.cpp:182: error: (-215:Assertion failed) !_src.empty() in function 'cv::cvtColor'\n",
      "\n",
      "Exception OpenCV(4.4.0) C:\\Users\\appveyor\\AppData\\Local\\Temp\\1\\pip-req-build-h4wtvo23\\opencv\\modules\\imgproc\\src\\color.cpp:182: error: (-215:Assertion failed) !_src.empty() in function 'cv::cvtColor'\n",
      "\n",
      "Exception OpenCV(4.4.0) C:\\Users\\appveyor\\AppData\\Local\\Temp\\1\\pip-req-build-h4wtvo23\\opencv\\modules\\imgproc\\src\\color.cpp:182: error: (-215:Assertion failed) !_src.empty() in function 'cv::cvtColor'\n",
      "\n",
      "Exception OpenCV(4.4.0) C:\\Users\\appveyor\\AppData\\Local\\Temp\\1\\pip-req-build-h4wtvo23\\opencv\\modules\\imgproc\\src\\color.cpp:182: error: (-215:Assertion failed) !_src.empty() in function 'cv::cvtColor'\n",
      "\n",
      "Exception OpenCV(4.4.0) C:\\Users\\appveyor\\AppData\\Local\\Temp\\1\\pip-req-build-h4wtvo23\\opencv\\modules\\imgproc\\src\\color.cpp:182: error: (-215:Assertion failed) !_src.empty() in function 'cv::cvtColor'\n",
      "\n",
      "Exception OpenCV(4.4.0) C:\\Users\\appveyor\\AppData\\Local\\Temp\\1\\pip-req-build-h4wtvo23\\opencv\\modules\\imgproc\\src\\color.cpp:182: error: (-215:Assertion failed) !_src.empty() in function 'cv::cvtColor'\n",
      "\n",
      "Exception OpenCV(4.4.0) C:\\Users\\appveyor\\AppData\\Local\\Temp\\1\\pip-req-build-h4wtvo23\\opencv\\modules\\imgproc\\src\\color.cpp:182: error: (-215:Assertion failed) !_src.empty() in function 'cv::cvtColor'\n",
      "\n",
      "Exception OpenCV(4.4.0) C:\\Users\\appveyor\\AppData\\Local\\Temp\\1\\pip-req-build-h4wtvo23\\opencv\\modules\\imgproc\\src\\color.cpp:182: error: (-215:Assertion failed) !_src.empty() in function 'cv::cvtColor'\n",
      "\n",
      "Exception OpenCV(4.4.0) C:\\Users\\appveyor\\AppData\\Local\\Temp\\1\\pip-req-build-h4wtvo23\\opencv\\modules\\imgproc\\src\\color.cpp:182: error: (-215:Assertion failed) !_src.empty() in function 'cv::cvtColor'\n",
      "\n",
      "Exception OpenCV(4.4.0) C:\\Users\\appveyor\\AppData\\Local\\Temp\\1\\pip-req-build-h4wtvo23\\opencv\\modules\\imgproc\\src\\color.cpp:182: error: (-215:Assertion failed) !_src.empty() in function 'cv::cvtColor'\n",
      "\n",
      "Exception OpenCV(4.4.0) C:\\Users\\appveyor\\AppData\\Local\\Temp\\1\\pip-req-build-h4wtvo23\\opencv\\modules\\imgproc\\src\\color.cpp:182: error: (-215:Assertion failed) !_src.empty() in function 'cv::cvtColor'\n",
      "\n",
      "Exception OpenCV(4.4.0) C:\\Users\\appveyor\\AppData\\Local\\Temp\\1\\pip-req-build-h4wtvo23\\opencv\\modules\\imgproc\\src\\color.cpp:182: error: (-215:Assertion failed) !_src.empty() in function 'cv::cvtColor'\n",
      "\n"
     ]
    }
   ],
   "source": [
    "data = []\n",
    "labels = []\n",
    "for category in Categories:\n",
    "    path = os.path.join(Directory, category)\n",
    "    for img in os.listdir(path):\n",
    "        img_path = os.path.join(path, img)\n",
    "        image = cv2.imread(img_path)\n",
    "        try:\n",
    "            gray = cv2.cvtColor(image, cv2.COLOR_BGR2GRAY)\n",
    "            resize_image = cv2.resize(gray, (100, 100))\n",
    "            data.append(resize_image)\n",
    "            labels.append(label_dict[category])\n",
    "        except Exception as e:\n",
    "            print('Exception', e)"
   ]
  },
  {
   "cell_type": "code",
   "execution_count": 58,
   "metadata": {},
   "outputs": [],
   "source": [
    "data = np.array(data)/255\n",
    "data = np.reshape(data, (data.shape[0], 100, 100, 1))\n",
    "labels = np.array(labels)"
   ]
  },
  {
   "cell_type": "code",
   "execution_count": 59,
   "metadata": {},
   "outputs": [],
   "source": [
    "#from tensorflow.keras.utils import np_utils\n",
    "labels = keras.utils.to_categorical(labels)"
   ]
  },
  {
   "cell_type": "code",
   "execution_count": 60,
   "metadata": {},
   "outputs": [
    {
     "data": {
      "text/plain": [
       "array([[1., 0.],\n",
       "       [1., 0.],\n",
       "       [1., 0.],\n",
       "       ...,\n",
       "       [0., 1.],\n",
       "       [0., 1.],\n",
       "       [0., 1.]], dtype=float32)"
      ]
     },
     "execution_count": 60,
     "metadata": {},
     "output_type": "execute_result"
    }
   ],
   "source": [
    "labels"
   ]
  },
  {
   "cell_type": "code",
   "execution_count": 61,
   "metadata": {},
   "outputs": [],
   "source": [
    "model = Sequential()\n",
    "\n",
    "model.add(Conv2D(200, (3, 3), activation = 'relu', input_shape = data.shape[1:]))\n",
    "model.add(MaxPool2D(pool_size = (2, 2)))\n",
    "          \n",
    "model.add(Conv2D(100, (3, 3), activation = 'relu'))\n",
    "model.add(MaxPool2D(pool_size = (2, 2)))\n",
    "          \n",
    "model.add(Flatten())\n",
    "model.add(Dropout(0.5))\n",
    "          \n",
    "model.add(Dense(50, activation = 'relu'))\n",
    "          \n",
    "model.add(Dense(2, activation = 'softmax'))\n",
    "          \n",
    "model.compile(loss = 'categorical_crossentropy', optimizer = 'adam', metrics = ['accuracy'])"
   ]
  },
  {
   "cell_type": "code",
   "execution_count": 62,
   "metadata": {},
   "outputs": [
    {
     "name": "stdout",
     "output_type": "stream",
     "text": [
      "Model: \"sequential_6\"\n",
      "_________________________________________________________________\n",
      "Layer (type)                 Output Shape              Param #   \n",
      "=================================================================\n",
      "conv2d_12 (Conv2D)           (None, 98, 98, 200)       2000      \n",
      "_________________________________________________________________\n",
      "max_pooling2d_12 (MaxPooling (None, 49, 49, 200)       0         \n",
      "_________________________________________________________________\n",
      "conv2d_13 (Conv2D)           (None, 47, 47, 100)       180100    \n",
      "_________________________________________________________________\n",
      "max_pooling2d_13 (MaxPooling (None, 23, 23, 100)       0         \n",
      "_________________________________________________________________\n",
      "flatten_6 (Flatten)          (None, 52900)             0         \n",
      "_________________________________________________________________\n",
      "dropout_6 (Dropout)          (None, 52900)             0         \n",
      "_________________________________________________________________\n",
      "dense_12 (Dense)             (None, 50)                2645050   \n",
      "_________________________________________________________________\n",
      "dense_13 (Dense)             (None, 2)                 102       \n",
      "=================================================================\n",
      "Total params: 2,827,252\n",
      "Trainable params: 2,827,252\n",
      "Non-trainable params: 0\n",
      "_________________________________________________________________\n"
     ]
    }
   ],
   "source": [
    "model.summary()"
   ]
  },
  {
   "cell_type": "code",
   "execution_count": 63,
   "metadata": {},
   "outputs": [],
   "source": [
    "X_train, X_test, y_train, y_test = train_test_split(data, labels, test_size = 0.2, random_state = 0)"
   ]
  },
  {
   "cell_type": "code",
   "execution_count": 64,
   "metadata": {},
   "outputs": [
    {
     "name": "stdout",
     "output_type": "stream",
     "text": [
      "Epoch 1/20\n",
      "113/113 [==============================] - 95s 840ms/step - loss: 0.6638 - accuracy: 0.6032 - val_loss: 0.5765 - val_accuracy: 0.6759\n",
      "Epoch 2/20\n",
      "113/113 [==============================] - 94s 830ms/step - loss: 0.4770 - accuracy: 0.7723 - val_loss: 0.3230 - val_accuracy: 0.8540\n",
      "Epoch 3/20\n",
      "113/113 [==============================] - 93s 827ms/step - loss: 0.3674 - accuracy: 0.8414 - val_loss: 0.2696 - val_accuracy: 0.8894\n",
      "Epoch 4/20\n",
      "113/113 [==============================] - 102s 902ms/step - loss: 0.2919 - accuracy: 0.8794 - val_loss: 0.2442 - val_accuracy: 0.8993\n",
      "Epoch 5/20\n",
      "113/113 [==============================] - 101s 892ms/step - loss: 0.2450 - accuracy: 0.8996 - val_loss: 0.2408 - val_accuracy: 0.8938\n",
      "Epoch 6/20\n",
      "113/113 [==============================] - 98s 870ms/step - loss: 0.2108 - accuracy: 0.9175 - val_loss: 0.2357 - val_accuracy: 0.8982\n",
      "Epoch 7/20\n",
      "113/113 [==============================] - 99s 876ms/step - loss: 0.1751 - accuracy: 0.9300 - val_loss: 0.2192 - val_accuracy: 0.9215\n",
      "Epoch 8/20\n",
      "113/113 [==============================] - 102s 905ms/step - loss: 0.1566 - accuracy: 0.9386 - val_loss: 0.1614 - val_accuracy: 0.9381\n",
      "Epoch 9/20\n",
      "113/113 [==============================] - 98s 870ms/step - loss: 0.1420 - accuracy: 0.9427 - val_loss: 0.1996 - val_accuracy: 0.9281\n",
      "Epoch 10/20\n",
      "113/113 [==============================] - 98s 871ms/step - loss: 0.1316 - accuracy: 0.9455 - val_loss: 0.1612 - val_accuracy: 0.9347\n",
      "Epoch 11/20\n",
      "113/113 [==============================] - 101s 891ms/step - loss: 0.1328 - accuracy: 0.9424 - val_loss: 0.1850 - val_accuracy: 0.9403\n",
      "Epoch 12/20\n",
      "113/113 [==============================] - 99s 876ms/step - loss: 0.1066 - accuracy: 0.9585 - val_loss: 0.1753 - val_accuracy: 0.9314\n",
      "Epoch 13/20\n",
      "113/113 [==============================] - 103s 910ms/step - loss: 0.0918 - accuracy: 0.9687 - val_loss: 0.1735 - val_accuracy: 0.9325\n",
      "Epoch 14/20\n",
      "113/113 [==============================] - 103s 907ms/step - loss: 0.0840 - accuracy: 0.9693 - val_loss: 0.1746 - val_accuracy: 0.9336\n",
      "Epoch 15/20\n",
      "113/113 [==============================] - 100s 884ms/step - loss: 0.0865 - accuracy: 0.9673 - val_loss: 0.1788 - val_accuracy: 0.9491\n",
      "Epoch 16/20\n",
      "113/113 [==============================] - 98s 868ms/step - loss: 0.0687 - accuracy: 0.9751 - val_loss: 0.2383 - val_accuracy: 0.9215\n",
      "Epoch 17/20\n",
      "113/113 [==============================] - 98s 871ms/step - loss: 0.0749 - accuracy: 0.9709 - val_loss: 0.2168 - val_accuracy: 0.9303\n",
      "Epoch 18/20\n",
      "113/113 [==============================] - 96s 853ms/step - loss: 0.0680 - accuracy: 0.9754 - val_loss: 0.2183 - val_accuracy: 0.9347\n",
      "Epoch 19/20\n",
      "113/113 [==============================] - 95s 845ms/step - loss: 0.0490 - accuracy: 0.9781 - val_loss: 0.2099 - val_accuracy: 0.9358\n",
      "Epoch 20/20\n",
      "113/113 [==============================] - 94s 833ms/step - loss: 0.0649 - accuracy: 0.9737 - val_loss: 0.2053 - val_accuracy: 0.9392\n"
     ]
    }
   ],
   "source": [
    "history = model.fit(X_train, y_train, validation_data = (X_test, y_test), epochs = 20)"
   ]
  },
  {
   "cell_type": "code",
   "execution_count": 2,
   "metadata": {},
   "outputs": [],
   "source": [
    "from tensorflow.keras.models import load_model"
   ]
  },
  {
   "cell_type": "code",
   "execution_count": 3,
   "metadata": {},
   "outputs": [],
   "source": [
    "model_fd = load_model(r'E:\\Data\\Face Mask Detection\\My_Model\\face_detector_model')"
   ]
  },
  {
   "cell_type": "code",
   "execution_count": 4,
   "metadata": {},
   "outputs": [],
   "source": [
    "import cv2"
   ]
  },
  {
   "cell_type": "markdown",
   "metadata": {},
   "source": [
    "### Face Detection"
   ]
  },
  {
   "cell_type": "code",
   "execution_count": 67,
   "metadata": {},
   "outputs": [],
   "source": [
    "face_clfr = cv2.CascadeClassifier('E:\\pythonProject4\\haarcascade_frontalface_default.xml')\n",
    "cam = cv2.VideoCapture(0)\n",
    "labels_dict={0:'MASK',1:'NO MASK'}\n",
    "color_dict={0:(0,255,0),1:(0,0,255)}\n",
    "while True:\n",
    "    ret, frame = cam.read()\n",
    "    #cv2.imshow('Image', frame)\n",
    "    img_gray = cv2.cvtColor(frame, cv2.COLOR_BGR2GRAY)\n",
    "    faces = face_clfr.detectMultiScale(img_gray, 1.3, 5)\n",
    "    for (x, y, w, h) in faces:\n",
    "        face_img = img_gray[y:y+h, x:x+w]\n",
    "        resize_face = cv2.resize(face_img, (100, 100))\n",
    "        normalized = resize_face/255\n",
    "        reshaped=np.reshape(normalized,(1,100,100,1))\n",
    "        result=model.predict(reshaped)\n",
    "        label = np.argmax(result, axis = 1)[0]\n",
    "        cv2.rectangle(frame,(x,y), (x+w,y+h),color_dict[label],2)\n",
    "        cv2.rectangle(frame,(x,y-40),(x+w,y),color_dict[label],-1)\n",
    "        cv2.putText(frame, labels_dict[label], (x, y-10),cv2.FONT_HERSHEY_SIMPLEX,0.8,(255,255,255),2)\n",
    "    cv2.imshow('LIVE',frame)\n",
    "    if cv2.waitKey(1) == 13:\n",
    "        break\n",
    "cam.release()\n",
    "cv2.destroyAllWindows()"
   ]
  },
  {
   "cell_type": "code",
   "execution_count": null,
   "metadata": {},
   "outputs": [],
   "source": []
  }
 ],
 "metadata": {
  "kernelspec": {
   "display_name": "Python 3",
   "language": "python",
   "name": "python3"
  },
  "language_info": {
   "codemirror_mode": {
    "name": "ipython",
    "version": 3
   },
   "file_extension": ".py",
   "mimetype": "text/x-python",
   "name": "python",
   "nbconvert_exporter": "python",
   "pygments_lexer": "ipython3",
   "version": "3.8.3"
  }
 },
 "nbformat": 4,
 "nbformat_minor": 4
}
